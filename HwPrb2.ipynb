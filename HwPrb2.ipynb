{
 "cells": [
  {
   "cell_type": "code",
   "execution_count": 3,
   "metadata": {},
   "outputs": [],
   "source": [
    "import numpy as np\n",
    "import matplotlib.pyplot as plt\n",
    "import math\n",
    "%matplotlib inline"
   ]
  },
  {
   "cell_type": "code",
   "execution_count": 6,
   "metadata": {},
   "outputs": [],
   "source": [
    "distance=lambda x,y:math.sqrt(x*x+y*y)\n",
    "def RadianLength(A,Z):\n",
    "    X_0=(716*A)/(Z*(Z+1)*math.log(287/math.sqrt(Z))) #gcm^-2\n",
    " \n",
    "    return X_0\n",
    "\n",
    "def RadionLengthMulti():\n",
    "    #Sodium\n",
    "    NaA=22.9\n",
    "    NaZ=11\n",
    "    #Iodine\n",
    "    IA=126.9\n",
    "    IZ=53\n",
    "    TotalMass=NaA+IA\n",
    "    X_0_Sodium=RadianLength(NaA,NaZ)\n",
    "    X_0_Iodine=RadianLength(IA,IZ)\n",
    "    Total=((NaA/TotalMass)/X_0_Sodium)+((IA/TotalMass)/X_0_Iodine)\n",
    "    return 1/Total\n",
    "\n",
    "def DepthofShower(lowE,HighE,X_0,Z):\n",
    "    \n",
    "    Energys=[]\n",
    "    MaxDepth=[]\n",
    "    E_c=((610)/(Z+1.24))/1000 # MeV\n",
    "    print(E_c)\n",
    "    for i in range(lowE,HighE):   \n",
    "        X_max=(X_0*math.log(i/E_c))/math.log(2)\n",
    "        Energys.append(i)\n",
    "        MaxDepth.append(X_max)\n",
    "    Total=np.array([Energys,MaxDepth])\n",
    "    return Total\n",
    "\n",
    "\n",
    "    "
   ]
  },
  {
   "cell_type": "code",
   "execution_count": 7,
   "metadata": {},
   "outputs": [
    {
     "name": "stdout",
     "output_type": "stream",
     "text": [
      "0.03170478170478171\n",
      "0.00935009196811772\n",
      "Argon Radiation Length is 19.87 gcm^-2\n",
      "NaI Radiation Length is 9.66 gcm^-2\n"
     ]
    }
   ],
   "source": [
    "\n",
    "\n",
    "ArgonX_0=RadianLength(40,18)\n",
    "NaIX_0=RadionLengthMulti()\n",
    "ArgonXmax=DepthofShower(1,100,ArgonX_0,18)\n",
    "NaIXmax=DepthofShower(1,100,NaIX_0,64)\n",
    "print(f\"Argon Radiation Length is {round(ArgonX_0,2)} gcm^-2\")\n",
    "print(f\"NaI Radiation Length is {round(NaIX_0,2)} gcm^-2\")"
   ]
  },
  {
   "cell_type": "code",
   "execution_count": 8,
   "metadata": {},
   "outputs": [
    {
     "ename": "SyntaxError",
     "evalue": "invalid syntax (<ipython-input-8-d95366a46fd9>, line 5)",
     "output_type": "error",
     "traceback": [
      "\u001b[0;36m  File \u001b[0;32m\"<ipython-input-8-d95366a46fd9>\"\u001b[0;36m, line \u001b[0;32m5\u001b[0m\n\u001b[0;31m    ax.set_xscale('log')plt.scatter(ArgonXmax[0],ArgonXmax[1],c=\"g\", alpha=0.5,\u001b[0m\n\u001b[0m                        ^\u001b[0m\n\u001b[0;31mSyntaxError\u001b[0m\u001b[0;31m:\u001b[0m invalid syntax\n"
     ]
    }
   ],
   "source": [
    "plt.figure()\n",
    "plt.title(\"MaxDepth Vs Electron Energy\")\n",
    "plt.scatter(ArgonXmax[0],ArgonXmax[1],c=\"g\", alpha=0.5,\n",
    "            label=\"Argon\")\n",
    "plt.scatter(NaIXmax[0],NaIXmax[1],c=\"b\", alpha=0.5,\n",
    "            label=\"NaI\")\n",
    "plt.legend(loc='upper left')\n",
    "plt.ylabel('Max_Depth(gcm^-2)')\n",
    "plt.xlabel(\"Energy(GeV)\")\n",
    "plt.show()"
   ]
  },
  {
   "cell_type": "code",
   "execution_count": 21,
   "metadata": {},
   "outputs": [
    {
     "data": {
      "image/png": "[encoded data removed]",
      "text/plain": [
       "<Figure size 432x288 with 1 Axes>"
      ]
     },
     "metadata": {
      "needs_background": "light"
     },
     "output_type": "display_data"
    }
   ],
   "source": [
    "#Problem 3\n",
    "EnergyRes=[]\n",
    "IncidentE=[]\n",
    "e=99 #%\n",
    "h=70 #%\n",
    "\n",
    "errore=0.5\n",
    "errorh=0.4\n",
    "\n",
    "hLowErr=[]\n",
    "hHighErr=[]\n",
    "eLowErr=[]\n",
    "eHighErr=[]\n",
    "\n",
    "for i in range(1,1000):\n",
    "    sigma_e=(e*(2)/100)/math.sqrt(i)\n",
    "    sigma_h=(h*40/100)/math.sqrt(i)\n",
    "    \n",
    "    #Errors\n",
    "    sigma_hLowE=(h*(40-0.4)/100)/math.sqrt(i)\n",
    "    sigma_hHighE=(h*(40+0.4)/100)/math.sqrt(i)\n",
    "    \n",
    "    sigma_eLowE=(h*(2-0.5)/100)/math.sqrt(i)\n",
    "    sigma_eHighE=(h*(2+0.5)/100)/math.sqrt(i)\n",
    "\n",
    "    hLowErr.append(sigma_hLowE)\n",
    "    hHighErr.append(sigma_hHighE)\n",
    "    eLowErr.append(sigma_eLowE)\n",
    "    eHighErr.append(sigma_eHighE)\n",
    "\n",
    "    EnergyRes.append(distance(sigma_e,sigma_h))\n",
    "    IncidentE.append(i)\n",
    "    \n",
    "    \n",
    "Error=distance(errore,errorh)\n",
    "\n",
    "plt.figure()\n",
    "plt.title(\"sigma/sqrt(E) Vs Incident Energy\")\n",
    "plt.errorbar(IncidentE,EnergyRes,yerr=Error,errorevery=20,c=\"g\", alpha=0.5,\n",
    "            label=\"Non-Comp\")\n",
    "\n",
    "ax=plt.gca()\n",
    "#ax.set_xscale('log')\n",
    "plt.legend(loc='upper right')\n",
    "plt.ylabel('%')\n",
    "plt.xlabel(\"Energy(GeV)\")\n",
    "plt.show()"
   ]
  },
  {
   "cell_type": "code",
   "execution_count": 53,
   "metadata": {},
   "outputs": [
    {
     "name": "stdout",
     "output_type": "stream",
     "text": [
      "10.0\n",
      "500.0\n"
     ]
    },
    {
     "data": {
      "image/png": "[encoded data removed]",
      "text/plain": [
       "<Figure size 432x288 with 1 Axes>"
      ]
     },
     "metadata": {
      "needs_background": "light"
     },
     "output_type": "display_data"
    }
   ],
   "source": [
    "#Problem 3\n",
    "EnergyVis=[]\n",
    "EnergyVisComp=[]\n",
    "\n",
    "IncidentE=[]\n",
    "e=99/100 #%\n",
    "h=70/100 #%\n",
    "\n",
    "h2=70/100\n",
    "e2=70/100\n",
    "\n",
    "errore=0.5\n",
    "errorh=0.4\n",
    "\n",
    "hLowErr=[]\n",
    "hHighErr=[]\n",
    "eLowErr=[]\n",
    "eHighErr=[]\n",
    "\n",
    "for i in range(1,1001):\n",
    "    Evis=(e*i)\n",
    "    EvisH=(h*i)\n",
    "    EvisComp=(e2/(h2+e2))*i\n",
    "    #Evis=(e+h)*i\n",
    "    #EvisComp=(e2+h2)*i\n",
    "    EnergyVis.append(Evis)\n",
    "    EnergyVisComp.append(EvisComp/i)\n",
    "    if i==20:\n",
    "        print(EvisComp)\n",
    "    if i==1000:\n",
    "        print(EvisComp)\n",
    "\n",
    "    IncidentE.append(i)\n",
    "    \n",
    "    \n",
    "#Error=distance(errore,errorh)\n",
    "\n",
    "plt.figure()\n",
    "plt.title(\"VisE Vs Incident Energy\")\n",
    "plt.scatter(IncidentE,EnergyVis,c=\"g\", alpha=0.5,\n",
    "            label=\"e-NonComp\")\n",
    "plt.scatter(IncidentE,EnergyVisComp,c=\"b\", alpha=0.5,\n",
    "            label=\"h-NonComp\")\n",
    "ax=plt.gca()\n",
    "ax.set_xscale('log')\n",
    "plt.legend(loc='upper left')\n",
    "plt.ylabel('VisE')\n",
    "plt.xlabel(\"Incident Energy(GeV)\")\n",
    "plt.show()"
   ]
  }
 ],
 "metadata": {
  "kernelspec": {
   "display_name": "Python 3",
   "language": "python",
   "name": "python3"
  },
  "language_info": {
   "codemirror_mode": {
    "name": "ipython",
    "version": 3
   },
   "file_extension": ".py",
   "mimetype": "text/x-python",
   "name": "python",
   "nbconvert_exporter": "python",
   "pygments_lexer": "ipython3",
   "version": "3.8.10"
  }
 },
 "nbformat": 4,
 "nbformat_minor": 2
}
